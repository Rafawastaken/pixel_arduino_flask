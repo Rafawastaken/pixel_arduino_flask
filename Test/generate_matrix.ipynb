{
 "cells": [
  {
   "cell_type": "code",
   "execution_count": 1,
   "metadata": {},
   "outputs": [],
   "source": [
    "import requests"
   ]
  },
  {
   "cell_type": "code",
   "execution_count": 37,
   "metadata": {},
   "outputs": [
    {
     "data": {
      "text/plain": [
       "[{'id': 1, 'coluna': 1, 'linha': 1, 'estado': 0},\n",
       " {'id': 2, 'coluna': 1, 'linha': 2, 'estado': 0},\n",
       " {'id': 3, 'coluna': 1, 'linha': 3, 'estado': 0},\n",
       " {'id': 4, 'coluna': 1, 'linha': 4, 'estado': 0},\n",
       " {'id': 5, 'coluna': 1, 'linha': 5, 'estado': 0},\n",
       " {'id': 6, 'coluna': 1, 'linha': 6, 'estado': 0},\n",
       " {'id': 7, 'coluna': 1, 'linha': 7, 'estado': 0},\n",
       " {'id': 8, 'coluna': 1, 'linha': 8, 'estado': 0},\n",
       " {'id': 9, 'coluna': 2, 'linha': 1, 'estado': 1},\n",
       " {'id': 10, 'coluna': 2, 'linha': 2, 'estado': 1},\n",
       " {'id': 11, 'coluna': 2, 'linha': 3, 'estado': 0},\n",
       " {'id': 12, 'coluna': 2, 'linha': 4, 'estado': 0},\n",
       " {'id': 13, 'coluna': 2, 'linha': 5, 'estado': 1},\n",
       " {'id': 14, 'coluna': 2, 'linha': 6, 'estado': 1},\n",
       " {'id': 15, 'coluna': 2, 'linha': 7, 'estado': 1},\n",
       " {'id': 16, 'coluna': 2, 'linha': 8, 'estado': 1},\n",
       " {'id': 17, 'coluna': 3, 'linha': 1, 'estado': 0},\n",
       " {'id': 18, 'coluna': 3, 'linha': 2, 'estado': 1},\n",
       " {'id': 19, 'coluna': 3, 'linha': 3, 'estado': 1},\n",
       " {'id': 20, 'coluna': 3, 'linha': 4, 'estado': 1},\n",
       " {'id': 21, 'coluna': 3, 'linha': 5, 'estado': 0},\n",
       " {'id': 22, 'coluna': 3, 'linha': 6, 'estado': 1},\n",
       " {'id': 23, 'coluna': 3, 'linha': 7, 'estado': 0},\n",
       " {'id': 24, 'coluna': 3, 'linha': 8, 'estado': 1},\n",
       " {'id': 25, 'coluna': 4, 'linha': 1, 'estado': 0},\n",
       " {'id': 26, 'coluna': 4, 'linha': 2, 'estado': 1},\n",
       " {'id': 27, 'coluna': 4, 'linha': 3, 'estado': 1},\n",
       " {'id': 28, 'coluna': 4, 'linha': 4, 'estado': 1},\n",
       " {'id': 29, 'coluna': 4, 'linha': 5, 'estado': 0},\n",
       " {'id': 30, 'coluna': 4, 'linha': 6, 'estado': 0},\n",
       " {'id': 31, 'coluna': 4, 'linha': 7, 'estado': 1},\n",
       " {'id': 32, 'coluna': 4, 'linha': 8, 'estado': 0},\n",
       " {'id': 33, 'coluna': 5, 'linha': 1, 'estado': 0},\n",
       " {'id': 34, 'coluna': 5, 'linha': 2, 'estado': 0},\n",
       " {'id': 35, 'coluna': 5, 'linha': 3, 'estado': 0},\n",
       " {'id': 36, 'coluna': 5, 'linha': 4, 'estado': 0},\n",
       " {'id': 37, 'coluna': 5, 'linha': 5, 'estado': 0},\n",
       " {'id': 38, 'coluna': 5, 'linha': 6, 'estado': 0},\n",
       " {'id': 39, 'coluna': 5, 'linha': 7, 'estado': 0},\n",
       " {'id': 40, 'coluna': 5, 'linha': 8, 'estado': 0},\n",
       " {'id': 41, 'coluna': 6, 'linha': 1, 'estado': 0},\n",
       " {'id': 42, 'coluna': 6, 'linha': 2, 'estado': 0},\n",
       " {'id': 43, 'coluna': 6, 'linha': 3, 'estado': 0},\n",
       " {'id': 44, 'coluna': 6, 'linha': 4, 'estado': 0},\n",
       " {'id': 45, 'coluna': 6, 'linha': 5, 'estado': 0},\n",
       " {'id': 46, 'coluna': 6, 'linha': 6, 'estado': 0},\n",
       " {'id': 47, 'coluna': 6, 'linha': 7, 'estado': 0},\n",
       " {'id': 48, 'coluna': 6, 'linha': 8, 'estado': 0},\n",
       " {'id': 49, 'coluna': 7, 'linha': 1, 'estado': 0},\n",
       " {'id': 50, 'coluna': 7, 'linha': 2, 'estado': 0},\n",
       " {'id': 51, 'coluna': 7, 'linha': 3, 'estado': 1},\n",
       " {'id': 52, 'coluna': 7, 'linha': 4, 'estado': 0},\n",
       " {'id': 53, 'coluna': 7, 'linha': 5, 'estado': 0},\n",
       " {'id': 54, 'coluna': 7, 'linha': 6, 'estado': 0},\n",
       " {'id': 55, 'coluna': 7, 'linha': 7, 'estado': 0},\n",
       " {'id': 56, 'coluna': 7, 'linha': 8, 'estado': 0},\n",
       " {'id': 57, 'coluna': 8, 'linha': 1, 'estado': 0},\n",
       " {'id': 58, 'coluna': 8, 'linha': 2, 'estado': 0},\n",
       " {'id': 59, 'coluna': 8, 'linha': 3, 'estado': 0},\n",
       " {'id': 60, 'coluna': 8, 'linha': 4, 'estado': 0},\n",
       " {'id': 61, 'coluna': 8, 'linha': 5, 'estado': 0},\n",
       " {'id': 62, 'coluna': 8, 'linha': 6, 'estado': 0},\n",
       " {'id': 63, 'coluna': 8, 'linha': 7, 'estado': 0},\n",
       " {'id': 64, 'coluna': 8, 'linha': 8, 'estado': 0}]"
      ]
     },
     "execution_count": 37,
     "metadata": {},
     "output_type": "execute_result"
    }
   ],
   "source": [
    "endpoint = \"http://127.0.0.1:5000/matrix-status\"\n",
    "r = requests.get(endpoint)\n",
    "content = r.json()\n",
    "content"
   ]
  },
  {
   "cell_type": "code",
   "execution_count": 39,
   "metadata": {},
   "outputs": [],
   "source": [
    "def generate_matrix(sample, pos_x, pos_y, estado):\n",
    "    sample[pos_x][pos_y] = estado\n",
    "    return sample"
   ]
  },
  {
   "cell_type": "code",
   "execution_count": 40,
   "metadata": {},
   "outputs": [
    {
     "name": "stdout",
     "output_type": "stream",
     "text": [
      "63\r"
     ]
    }
   ],
   "source": [
    "sample = [\n",
    "    [0,0,0,0,0,0,0,0],\n",
    "    [0,0,0,0,0,0,0,0],\n",
    "    [0,0,0,0,0,0,0,0],\n",
    "    [0,0,0,0,0,0,0,0],\n",
    "    [0,0,0,0,0,0,0,0],\n",
    "    [0,0,0,0,0,0,0,0],\n",
    "    [0,0,0,0,0,0,0,0],\n",
    "    [0,0,0,0,0,0,0,0],\n",
    "]\n",
    "\n",
    "for enum, entry in enumerate(content):\n",
    "    print(enum, end = '\\r')\n",
    "    coluna = int(entry.get(\"coluna\")) - 1\n",
    "    linha = int(entry.get('linha')) - 1\n",
    "    estado = int(entry.get('estado'))\n",
    "    sample = generate_matrix(sample, linha, coluna, estado)\n"
   ]
  },
  {
   "cell_type": "code",
   "execution_count": 41,
   "metadata": {},
   "outputs": [
    {
     "data": {
      "text/plain": [
       "[[0, 1, 0, 0, 0, 0, 0, 0],\n",
       " [0, 1, 1, 1, 0, 0, 0, 0],\n",
       " [0, 0, 1, 1, 0, 0, 1, 0],\n",
       " [0, 0, 1, 1, 0, 0, 0, 0],\n",
       " [0, 1, 0, 0, 0, 0, 0, 0],\n",
       " [0, 1, 1, 0, 0, 0, 0, 0],\n",
       " [0, 1, 0, 1, 0, 0, 0, 0],\n",
       " [0, 1, 1, 0, 0, 0, 0, 0]]"
      ]
     },
     "execution_count": 41,
     "metadata": {},
     "output_type": "execute_result"
    }
   ],
   "source": [
    "sample"
   ]
  },
  {
   "cell_type": "code",
   "execution_count": null,
   "metadata": {},
   "outputs": [],
   "source": []
  }
 ],
 "metadata": {
  "kernelspec": {
   "display_name": "Python 3.8.10 ('venv': venv)",
   "language": "python",
   "name": "python3"
  },
  "language_info": {
   "codemirror_mode": {
    "name": "ipython",
    "version": 3
   },
   "file_extension": ".py",
   "mimetype": "text/x-python",
   "name": "python",
   "nbconvert_exporter": "python",
   "pygments_lexer": "ipython3",
   "version": "3.8.10"
  },
  "orig_nbformat": 4,
  "vscode": {
   "interpreter": {
    "hash": "276cba2ef90c0f249703502513b5120536fc0fce26773ea93f87c15e3a3865d5"
   }
  }
 },
 "nbformat": 4,
 "nbformat_minor": 2
}
